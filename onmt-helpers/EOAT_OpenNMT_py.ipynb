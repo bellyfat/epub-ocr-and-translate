{
  "nbformat": 4,
  "nbformat_minor": 0,
  "metadata": {
    "colab": {
      "name": "EOAT-OpenNMT-py.ipynb",
      "provenance": [],
      "collapsed_sections": [],
      "toc_visible": true,
      "include_colab_link": true
    },
    "kernelspec": {
      "name": "python3",
      "display_name": "Python 3"
    },
    "accelerator": "GPU"
  },
  "cells": [
    {
      "cell_type": "markdown",
      "metadata": {
        "id": "view-in-github",
        "colab_type": "text"
      },
      "source": [
        "<a href=\"https://colab.research.google.com/github/jenh/epub-ocr-and-translate/blob/master/onmt-helpers/EOAT_OpenNMT_py.ipynb\" target=\"_parent\"><img src=\"https://colab.research.google.com/assets/colab-badge.svg\" alt=\"Open In Colab\"/></a>"
      ]
    },
    {
      "cell_type": "markdown",
      "metadata": {
        "id": "OLumcVxCSG3s",
        "colab_type": "text"
      },
      "source": [
        "# Setup"
      ]
    },
    {
      "cell_type": "markdown",
      "metadata": {
        "id": "tiZNxlOICSJY",
        "colab_type": "text"
      },
      "source": [
        "Install OpenNMT-py and connect to Google Drive:"
      ]
    },
    {
      "cell_type": "code",
      "metadata": {
        "id": "izaMW_tkisR4",
        "colab_type": "code",
        "colab": {}
      },
      "source": [
        "!pip install opennmt-py"
      ],
      "execution_count": 0,
      "outputs": []
    },
    {
      "cell_type": "code",
      "metadata": {
        "id": "bqjg2aONiC9j",
        "colab_type": "code",
        "colab": {}
      },
      "source": [
        "from google.colab import drive\n",
        "drive.mount('/content/drive')"
      ],
      "execution_count": 0,
      "outputs": []
    },
    {
      "cell_type": "markdown",
      "metadata": {
        "id": "z3QhhNNYSOlO",
        "colab_type": "text"
      },
      "source": [
        "# Preprocess"
      ]
    },
    {
      "cell_type": "markdown",
      "metadata": {
        "id": "y-64jYCCScjl",
        "colab_type": "text"
      },
      "source": [
        "Preprocess files. This command is vanilla, no bpe or sentencepiece or any other special sauce, we're training straight from corpus --- you can customize this as needed."
      ]
    },
    {
      "cell_type": "code",
      "metadata": {
        "id": "VHaqWBrsHDIH",
        "colab_type": "code",
        "colab": {}
      },
      "source": [
        "!onmt_preprocess /content/OpenNMT-py/preprocess.py -train_src /content/drive/My\\ Drive/my_working_dir/src_corpus -train_tgt /content/drive/My\\ Drive/my_working_dir/tgt_corpus -valid_src /content/drive/My\\ Drive/my_working_dir/src_val -valid_tgt /content/drive/My\\ Drive/my_working_dir/tgt_val -save_data /content/drive/My\\ Drive/my_working_dir/goognodyndict --lower --share_vocab --src_seq_length 10000 --tgt_seq_length 10000"
      ],
      "execution_count": 0,
      "outputs": []
    },
    {
      "cell_type": "markdown",
      "metadata": {
        "id": "eZSOvunTSc8Y",
        "colab_type": "text"
      },
      "source": [
        "# Check GPU"
      ]
    },
    {
      "cell_type": "markdown",
      "metadata": {
        "id": "_7b8DWuvCZmT",
        "colab_type": "text"
      },
      "source": [
        "Verify GPU status."
      ]
    },
    {
      "cell_type": "code",
      "metadata": {
        "id": "hKjnQoltKFDk",
        "colab_type": "code",
        "colab": {}
      },
      "source": [
        "!nvidia-smi\n"
      ],
      "execution_count": 0,
      "outputs": []
    },
    {
      "cell_type": "markdown",
      "metadata": {
        "id": "P-hZ_U1QSizx",
        "colab_type": "text"
      },
      "source": [
        "# Train (First run)"
      ]
    },
    {
      "cell_type": "markdown",
      "metadata": {
        "id": "78NmaDXLClI3",
        "colab_type": "text"
      },
      "source": [
        "Create and run a training command like the following (yours may differ based on what your aims are --- I've cribbed my settings based on significant Googling, and they are as always subject to change). On Google Colab, you want -world_size 1 (we have one GPU available to us) and -gpu_ranks 0 (its id is 0)."
      ]
    },
    {
      "cell_type": "code",
      "metadata": {
        "id": "-XJTgKy_OpRN",
        "colab_type": "code",
        "colab": {}
      },
      "source": [
        "!onmt_train /content/OpenNMT-py/train.py -data /content/drive/My\\ Drive/my_working_dir/my_training_data -save_model /content/drive/My\\ Drive/my_working_dir/my_training_data-model -layers 6 -rnn_size 512 -word_vec_size 512 -transformer_ff 2048 -heads 8 -encoder_type transformer -decoder_type transformer -position_encoding -train_steps 200000  -max_generator_batches 2 -dropout 0.1 -batch_size 4096 -batch_type tokens -normalization tokens  -accum_count 2 -optim adam -adam_beta2 0.998 -decay_method noam -warmup_steps 8000 -learning_rate 2 -max_grad_norm 0 -param_init 0  -param_init_glorot -label_smoothing 0.1 -valid_steps 10000 -save_checkpoint_steps 3000 -report_every 1000 -world_size 1 -gpu_ranks 0"
      ],
      "execution_count": 0,
      "outputs": []
    },
    {
      "cell_type": "markdown",
      "metadata": {
        "id": "7fqdB9ZCFCWi",
        "colab_type": "text"
      },
      "source": [
        "# Train (from model)"
      ]
    },
    {
      "cell_type": "markdown",
      "metadata": {
        "id": "fJ9xUO7_Dohc",
        "colab_type": "text"
      },
      "source": [
        "Once you've been interrupted, restart training with -train_from to start where you left off."
      ]
    },
    {
      "cell_type": "code",
      "metadata": {
        "id": "6ZGfj9DBkGR_",
        "colab_type": "code",
        "colab": {}
      },
      "source": [
        "!onmt_train /content/OpenNMT-py/train.py -data /content/drive/My\\ Drive/my_working_dir/my_training_data -save_model /content/drive/My\\ Drive/my_working_dir/my_training_data-model -train_from /content/drive/My\\ Drive/my_working_dir/my-last-good-generated-model_step_nnnnn.pt -layers 6 -rnn_size 512 -word_vec_size 512 -transformer_ff 2048 -heads 8 -encoder_type transformer -decoder_type transformer -position_encoding -train_steps 200000  -max_generator_batches 2 -dropout 0.1 -batch_size 2048 -batch_type tokens -normalization tokens  -accum_count 2 -optim adam -adam_beta2 0.998 -decay_method noam -warmup_steps 8000 -learning_rate 2 -max_grad_norm 0 -param_init 0  -param_init_glorot -label_smoothing 0.1 -valid_steps 10000 -save_checkpoint_steps 3000 -report_every 1000 -world_size 1 -gpu_ranks 0"
      ],
      "execution_count": 0,
      "outputs": []
    }
  ]
}